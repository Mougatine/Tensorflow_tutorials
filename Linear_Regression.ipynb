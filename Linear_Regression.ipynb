{
 "cells": [
  {
   "cell_type": "code",
   "execution_count": 2,
   "metadata": {},
   "outputs": [
    {
     "name": "stdout",
     "output_type": "stream",
     "text": [
      "Using matplotlib backend: TkAgg\n",
      "Populating the interactive namespace from numpy and matplotlib\n",
      "Using Tensorflow version: 1.3.0\n"
     ]
    }
   ],
   "source": [
    "%pylab\n",
    "%matplotlib inline\n",
    "\n",
    "import pickle\n",
    "\n",
    "import matplotlib.pyplot as plt\n",
    "import numpy as np\n",
    "import tensorflow as tf\n",
    "\n",
    "print(f'Using Tensorflow version: {tf.__version__}')"
   ]
  },
  {
   "cell_type": "code",
   "execution_count": 3,
   "metadata": {
    "collapsed": true
   },
   "outputs": [],
   "source": [
    "with open('data/age_height.pkl', 'rb') as data:\n",
    "    x_train = pickle.load(data)\n",
    "    y_train = pickle.load(data)"
   ]
  },
  {
   "cell_type": "markdown",
   "metadata": {},
   "source": [
    "## Handmade regression"
   ]
  },
  {
   "cell_type": "code",
   "execution_count": 121,
   "metadata": {},
   "outputs": [
    {
     "data": {
      "text/plain": [
       "<matplotlib.text.Text at 0x11dfde320>"
      ]
     },
     "execution_count": 121,
     "metadata": {},
     "output_type": "execute_result"
    },
    {
     "data": {
      "image/png": "[encoded data removed]",
      "text/plain": [
       "<matplotlib.figure.Figure at 0x11cee46a0>"
      ]
     },
     "metadata": {},
     "output_type": "display_data"
    }
   ],
   "source": [
    "plt.plot(x_train, y_train, 'x')\n",
    "plt.xlabel('Age')\n",
    "plt.ylabel('Height')"
   ]
  },
  {
   "cell_type": "code",
   "execution_count": 122,
   "metadata": {},
   "outputs": [
    {
     "name": "stdout",
     "output_type": "stream",
     "text": [
      "W: [ 0.06396713] b: [ 0.74969006] loss: 0.0987082\n"
     ]
    }
   ],
   "source": [
    "W = tf.Variable([0], dtype=tf.float32)\n",
    "b = tf.Variable([0], dtype=tf.float32)\n",
    "\n",
    "x = tf.placeholder(tf.float32)\n",
    "linear_model = W * x + b\n",
    "y = tf.placeholder(tf.float32)\n",
    "\n",
    "loss = tf.reduce_sum(tf.square(linear_model - y))\n",
    "optimizer = tf.train.GradientDescentOptimizer(0.0007)\n",
    "train = optimizer.minimize(loss)\n",
    "\n",
    "init = tf.global_variables_initializer()\n",
    "sess = tf.Session()\n",
    "sess.run(init)\n",
    "    \n",
    "for _ in range(1000):\n",
    "    sess.run(train, {x: x_train, y: y_train})\n",
    "        \n",
    "curr_W, curr_b, curr_loss = sess.run([W, b, loss], {x: x_train, y: y_train})\n",
    "print(\"W: %s b: %s loss: %s\"%(curr_W, curr_b, curr_loss))\n",
    "\n",
    "predictions = sess.run(linear_model, {x: x_train})"
   ]
  },
  {
   "cell_type": "code",
   "execution_count": 123,
   "metadata": {},
   "outputs": [
    {
     "data": {
      "text/plain": [
       "[<matplotlib.lines.Line2D at 0x11e03e8d0>]"
      ]
     },
     "execution_count": 123,
     "metadata": {},
     "output_type": "execute_result"
    },
    {
     "data": {
      "image/png": "[encoded data removed]",
      "text/plain": [
       "<matplotlib.figure.Figure at 0x11d53b6d8>"
      ]
     },
     "metadata": {},
     "output_type": "display_data"
    }
   ],
   "source": [
    "plt.xlabel('Age')\n",
    "plt.ylabel('Height')\n",
    "plt.plot(x_train, y_train, 'x')\n",
    "plt.plot(x_train, predictions, 'r')"
   ]
  },
  {
   "cell_type": "markdown",
   "metadata": {},
   "source": [
    "## With TF's estimators"
   ]
  },
  {
   "cell_type": "code",
   "execution_count": 143,
   "metadata": {},
   "outputs": [
    {
     "name": "stdout",
     "output_type": "stream",
     "text": [
      "INFO:tensorflow:Using default config.\n",
      "WARNING:tensorflow:Using temporary folder as model directory: /var/folders/3c/ghfnd0sd481dh25t0fg0dsy00000gn/T/tmp3gujgjw4\n",
      "INFO:tensorflow:Using config: {'_model_dir': '/var/folders/3c/ghfnd0sd481dh25t0fg0dsy00000gn/T/tmp3gujgjw4', '_tf_random_seed': 1, '_save_summary_steps': 100, '_save_checkpoints_secs': 600, '_save_checkpoints_steps': None, '_session_config': None, '_keep_checkpoint_max': 5, '_keep_checkpoint_every_n_hours': 10000, '_log_step_count_steps': 100}\n",
      "INFO:tensorflow:Create CheckpointSaverHook.\n",
      "INFO:tensorflow:Saving checkpoints for 1 into /var/folders/3c/ghfnd0sd481dh25t0fg0dsy00000gn/T/tmp3gujgjw4/model.ckpt.\n",
      "INFO:tensorflow:loss = 57.3733, step = 1\n",
      "INFO:tensorflow:global_step/sec: 689.754\n",
      "INFO:tensorflow:loss = 0.162101, step = 101 (0.147 sec)\n",
      "INFO:tensorflow:global_step/sec: 709.256\n",
      "INFO:tensorflow:loss = 0.100922, step = 201 (0.141 sec)\n",
      "INFO:tensorflow:global_step/sec: 740.615\n",
      "INFO:tensorflow:loss = 0.0987845, step = 301 (0.135 sec)\n",
      "INFO:tensorflow:global_step/sec: 655.019\n",
      "INFO:tensorflow:loss = 0.0987097, step = 401 (0.153 sec)\n",
      "INFO:tensorflow:global_step/sec: 716.404\n",
      "INFO:tensorflow:loss = 0.098707, step = 501 (0.139 sec)\n",
      "INFO:tensorflow:global_step/sec: 837.186\n",
      "INFO:tensorflow:loss = 0.098707, step = 601 (0.119 sec)\n",
      "INFO:tensorflow:global_step/sec: 716.726\n",
      "INFO:tensorflow:loss = 0.098707, step = 701 (0.140 sec)\n",
      "INFO:tensorflow:global_step/sec: 599.179\n",
      "INFO:tensorflow:loss = 0.098707, step = 801 (0.168 sec)\n",
      "INFO:tensorflow:global_step/sec: 547.243\n",
      "INFO:tensorflow:loss = 0.098707, step = 901 (0.183 sec)\n",
      "INFO:tensorflow:Saving checkpoints for 1000 into /var/folders/3c/ghfnd0sd481dh25t0fg0dsy00000gn/T/tmp3gujgjw4/model.ckpt.\n",
      "INFO:tensorflow:Loss for final step: 0.098707.\n",
      "INFO:tensorflow:Starting evaluation at 2017-09-26-10:58:06\n",
      "INFO:tensorflow:Restoring parameters from /var/folders/3c/ghfnd0sd481dh25t0fg0dsy00000gn/T/tmp3gujgjw4/model.ckpt-1000\n",
      "INFO:tensorflow:Finished evaluation at 2017-09-26-10:58:06\n",
      "INFO:tensorflow:Saving dict for global step 1000: average_loss = 0.00197414, global_step = 1000, loss = 0.098707\n",
      "train metrics: {'average_loss': 0.0019741398, 'loss': 0.09870699, 'global_step': 1000}\n",
      "INFO:tensorflow:Restoring parameters from /var/folders/3c/ghfnd0sd481dh25t0fg0dsy00000gn/T/tmp3gujgjw4/model.ckpt-1000\n"
     ]
    }
   ],
   "source": [
    "feature_columns = [tf.feature_column.numeric_column(\"x\", shape=[1])]\n",
    "estimator = tf.estimator.LinearRegressor(feature_columns=feature_columns)\n",
    "\n",
    "train_input_fn = tf.estimator.inputs.numpy_input_fn(\n",
    "    {\"x\": x_train}, y_train, batch_size=x_train.shape[0], num_epochs=1000, shuffle=False)\n",
    "input_fn = tf.estimator.inputs.numpy_input_fn(\n",
    "    {\"x\": x_train}, y_train, batch_size=x_train.shape[0], num_epochs=1, shuffle=False)\n",
    "\n",
    "estimator.train(input_fn=train_input_fn, steps=1000)\n",
    "\n",
    "# Here we evaluate how well our model did.\n",
    "train_metrics = estimator.evaluate(input_fn=input_fn)\n",
    "print(\"train metrics: %r\"% train_metrics)\n",
    "\n",
    "predictions = list(pred['predictions'] for pred in estimator.predict(input_fn=input_fn))"
   ]
  },
  {
   "cell_type": "code",
   "execution_count": 145,
   "metadata": {},
   "outputs": [
    {
     "data": {
      "text/plain": [
       "[<matplotlib.lines.Line2D at 0x11c7a77b8>]"
      ]
     },
     "execution_count": 145,
     "metadata": {},
     "output_type": "execute_result"
    },
    {
     "data": {
      "image/png": "[encoded data removed]",
      "text/plain": [
       "<matplotlib.figure.Figure at 0x11c7a7f28>"
      ]
     },
     "metadata": {},
     "output_type": "display_data"
    }
   ],
   "source": [
    "plt.xlabel('Age')\n",
    "plt.ylabel('Height')\n",
    "plt.plot(x_train, y_train, 'x')\n",
    "plt.plot(x_train, predictions, 'r')"
   ]
  },
  {
   "cell_type": "code",
   "execution_count": null,
   "metadata": {
    "collapsed": true
   },
   "outputs": [],
   "source": []
  }
 ],
 "metadata": {
  "kernelspec": {
   "display_name": "Python 3",
   "language": "python",
   "name": "python3"
  },
  "language_info": {
   "codemirror_mode": {
    "name": "ipython",
    "version": 3
   },
   "file_extension": ".py",
   "mimetype": "text/x-python",
   "name": "python",
   "nbconvert_exporter": "python",
   "pygments_lexer": "ipython3",
   "version": "3.6.1"
  }
 },
 "nbformat": 4,
 "nbformat_minor": 2
}
